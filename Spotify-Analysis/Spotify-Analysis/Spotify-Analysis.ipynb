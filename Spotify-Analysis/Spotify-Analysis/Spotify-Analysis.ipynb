{
 "cells": [
  {
   "cell_type": "markdown",
   "metadata": {},
   "source": [
    "<h1 style=\"text-align: center;\">\n",
    "<div style=\"color:rgb(221, 3, 181); font-size: 200%\">Spotify Analysis</div>"
   ]
  },
  {
   "cell_type": "markdown",
   "metadata": {},
   "source": [
    "# Section 1: Dataset"
   ]
  },
  {
   "cell_type": "markdown",
   "metadata": {},
   "source": [
    "## What dataset am I using?"
   ]
  },
  {
   "cell_type": "markdown",
   "metadata": {},
   "source": [
    "Most Streamed Spotify Songs 2023"
   ]
  },
  {
   "cell_type": "markdown",
   "metadata": {},
   "source": [
    "## Why did I choose this dataset?"
   ]
  },
  {
   "cell_type": "markdown",
   "metadata": {},
   "source": [
    "I chose this dataset because I knew for this project I wanted to use a dataset that I was actually passionate about. Music has always been such an influential aspect of my life, and I thought it would be really interesting to analyze some data about my favorite artists! I used the website Kaggle to find this dataset. I didn't know what I wanted to do from the beginning, I was just openly exploring the website for any datasets that caught my eye. After I found a few, I started to eliminate some based off their lower usability scores. From there, I just continued to narrow the choices down until I got to the one I believed would be most interesting/had the most analysis opportunities. "
   ]
  },
  {
   "cell_type": "markdown",
   "metadata": {},
   "source": [
    "## Loading the Spotify Dataset"
   ]
  },
  {
   "cell_type": "code",
   "execution_count": 732,
   "metadata": {},
   "outputs": [
    {
     "data": {
      "text/html": [
       "<div>\n",
       "<style scoped>\n",
       "    .dataframe tbody tr th:only-of-type {\n",
       "        vertical-align: middle;\n",
       "    }\n",
       "\n",
       "    .dataframe tbody tr th {\n",
       "        vertical-align: top;\n",
       "    }\n",
       "\n",
       "    .dataframe thead th {\n",
       "        text-align: right;\n",
       "    }\n",
       "</style>\n",
       "<table border=\"1\" class=\"dataframe\">\n",
       "  <thead>\n",
       "    <tr style=\"text-align: right;\">\n",
       "      <th></th>\n",
       "      <th>track_name</th>\n",
       "      <th>artist(s)_name</th>\n",
       "      <th>artist_count</th>\n",
       "      <th>released_year</th>\n",
       "      <th>released_month</th>\n",
       "      <th>released_day</th>\n",
       "      <th>in_spotify_playlists</th>\n",
       "      <th>in_spotify_charts</th>\n",
       "      <th>streams</th>\n",
       "      <th>in_apple_playlists</th>\n",
       "      <th>...</th>\n",
       "      <th>bpm</th>\n",
       "      <th>key</th>\n",
       "      <th>mode</th>\n",
       "      <th>danceability_%</th>\n",
       "      <th>valence_%</th>\n",
       "      <th>energy_%</th>\n",
       "      <th>acousticness_%</th>\n",
       "      <th>instrumentalness_%</th>\n",
       "      <th>liveness_%</th>\n",
       "      <th>speechiness_%</th>\n",
       "    </tr>\n",
       "  </thead>\n",
       "  <tbody>\n",
       "    <tr>\n",
       "      <th>0</th>\n",
       "      <td>Seven (feat. Latto) (Explicit Ver.)</td>\n",
       "      <td>Latto, Jung Kook</td>\n",
       "      <td>2</td>\n",
       "      <td>2023</td>\n",
       "      <td>7</td>\n",
       "      <td>14</td>\n",
       "      <td>553</td>\n",
       "      <td>147</td>\n",
       "      <td>141381703</td>\n",
       "      <td>43</td>\n",
       "      <td>...</td>\n",
       "      <td>125</td>\n",
       "      <td>B</td>\n",
       "      <td>Major</td>\n",
       "      <td>80</td>\n",
       "      <td>89</td>\n",
       "      <td>83</td>\n",
       "      <td>31</td>\n",
       "      <td>0</td>\n",
       "      <td>8</td>\n",
       "      <td>4</td>\n",
       "    </tr>\n",
       "    <tr>\n",
       "      <th>1</th>\n",
       "      <td>LALA</td>\n",
       "      <td>Myke Towers</td>\n",
       "      <td>1</td>\n",
       "      <td>2023</td>\n",
       "      <td>3</td>\n",
       "      <td>23</td>\n",
       "      <td>1474</td>\n",
       "      <td>48</td>\n",
       "      <td>133716286</td>\n",
       "      <td>48</td>\n",
       "      <td>...</td>\n",
       "      <td>92</td>\n",
       "      <td>C#</td>\n",
       "      <td>Major</td>\n",
       "      <td>71</td>\n",
       "      <td>61</td>\n",
       "      <td>74</td>\n",
       "      <td>7</td>\n",
       "      <td>0</td>\n",
       "      <td>10</td>\n",
       "      <td>4</td>\n",
       "    </tr>\n",
       "    <tr>\n",
       "      <th>2</th>\n",
       "      <td>vampire</td>\n",
       "      <td>Olivia Rodrigo</td>\n",
       "      <td>1</td>\n",
       "      <td>2023</td>\n",
       "      <td>6</td>\n",
       "      <td>30</td>\n",
       "      <td>1397</td>\n",
       "      <td>113</td>\n",
       "      <td>140003974</td>\n",
       "      <td>94</td>\n",
       "      <td>...</td>\n",
       "      <td>138</td>\n",
       "      <td>F</td>\n",
       "      <td>Major</td>\n",
       "      <td>51</td>\n",
       "      <td>32</td>\n",
       "      <td>53</td>\n",
       "      <td>17</td>\n",
       "      <td>0</td>\n",
       "      <td>31</td>\n",
       "      <td>6</td>\n",
       "    </tr>\n",
       "    <tr>\n",
       "      <th>3</th>\n",
       "      <td>Cruel Summer</td>\n",
       "      <td>Taylor Swift</td>\n",
       "      <td>1</td>\n",
       "      <td>2019</td>\n",
       "      <td>8</td>\n",
       "      <td>23</td>\n",
       "      <td>7858</td>\n",
       "      <td>100</td>\n",
       "      <td>800840817</td>\n",
       "      <td>116</td>\n",
       "      <td>...</td>\n",
       "      <td>170</td>\n",
       "      <td>A</td>\n",
       "      <td>Major</td>\n",
       "      <td>55</td>\n",
       "      <td>58</td>\n",
       "      <td>72</td>\n",
       "      <td>11</td>\n",
       "      <td>0</td>\n",
       "      <td>11</td>\n",
       "      <td>15</td>\n",
       "    </tr>\n",
       "    <tr>\n",
       "      <th>4</th>\n",
       "      <td>WHERE SHE GOES</td>\n",
       "      <td>Bad Bunny</td>\n",
       "      <td>1</td>\n",
       "      <td>2023</td>\n",
       "      <td>5</td>\n",
       "      <td>18</td>\n",
       "      <td>3133</td>\n",
       "      <td>50</td>\n",
       "      <td>303236322</td>\n",
       "      <td>84</td>\n",
       "      <td>...</td>\n",
       "      <td>144</td>\n",
       "      <td>A</td>\n",
       "      <td>Minor</td>\n",
       "      <td>65</td>\n",
       "      <td>23</td>\n",
       "      <td>80</td>\n",
       "      <td>14</td>\n",
       "      <td>63</td>\n",
       "      <td>11</td>\n",
       "      <td>6</td>\n",
       "    </tr>\n",
       "    <tr>\n",
       "      <th>...</th>\n",
       "      <td>...</td>\n",
       "      <td>...</td>\n",
       "      <td>...</td>\n",
       "      <td>...</td>\n",
       "      <td>...</td>\n",
       "      <td>...</td>\n",
       "      <td>...</td>\n",
       "      <td>...</td>\n",
       "      <td>...</td>\n",
       "      <td>...</td>\n",
       "      <td>...</td>\n",
       "      <td>...</td>\n",
       "      <td>...</td>\n",
       "      <td>...</td>\n",
       "      <td>...</td>\n",
       "      <td>...</td>\n",
       "      <td>...</td>\n",
       "      <td>...</td>\n",
       "      <td>...</td>\n",
       "      <td>...</td>\n",
       "      <td>...</td>\n",
       "    </tr>\n",
       "    <tr>\n",
       "      <th>948</th>\n",
       "      <td>My Mind &amp; Me</td>\n",
       "      <td>Selena Gomez</td>\n",
       "      <td>1</td>\n",
       "      <td>2022</td>\n",
       "      <td>11</td>\n",
       "      <td>3</td>\n",
       "      <td>953</td>\n",
       "      <td>0</td>\n",
       "      <td>91473363</td>\n",
       "      <td>61</td>\n",
       "      <td>...</td>\n",
       "      <td>144</td>\n",
       "      <td>A</td>\n",
       "      <td>Major</td>\n",
       "      <td>60</td>\n",
       "      <td>24</td>\n",
       "      <td>39</td>\n",
       "      <td>57</td>\n",
       "      <td>0</td>\n",
       "      <td>8</td>\n",
       "      <td>3</td>\n",
       "    </tr>\n",
       "    <tr>\n",
       "      <th>949</th>\n",
       "      <td>Bigger Than The Whole Sky</td>\n",
       "      <td>Taylor Swift</td>\n",
       "      <td>1</td>\n",
       "      <td>2022</td>\n",
       "      <td>10</td>\n",
       "      <td>21</td>\n",
       "      <td>1180</td>\n",
       "      <td>0</td>\n",
       "      <td>121871870</td>\n",
       "      <td>4</td>\n",
       "      <td>...</td>\n",
       "      <td>166</td>\n",
       "      <td>F#</td>\n",
       "      <td>Major</td>\n",
       "      <td>42</td>\n",
       "      <td>7</td>\n",
       "      <td>24</td>\n",
       "      <td>83</td>\n",
       "      <td>1</td>\n",
       "      <td>12</td>\n",
       "      <td>6</td>\n",
       "    </tr>\n",
       "    <tr>\n",
       "      <th>950</th>\n",
       "      <td>A Veces (feat. Feid)</td>\n",
       "      <td>Feid, Paulo Londra</td>\n",
       "      <td>2</td>\n",
       "      <td>2022</td>\n",
       "      <td>11</td>\n",
       "      <td>3</td>\n",
       "      <td>573</td>\n",
       "      <td>0</td>\n",
       "      <td>73513683</td>\n",
       "      <td>2</td>\n",
       "      <td>...</td>\n",
       "      <td>92</td>\n",
       "      <td>C#</td>\n",
       "      <td>Major</td>\n",
       "      <td>80</td>\n",
       "      <td>81</td>\n",
       "      <td>67</td>\n",
       "      <td>4</td>\n",
       "      <td>0</td>\n",
       "      <td>8</td>\n",
       "      <td>6</td>\n",
       "    </tr>\n",
       "    <tr>\n",
       "      <th>951</th>\n",
       "      <td>En La De Ella</td>\n",
       "      <td>Feid, Sech, Jhayco</td>\n",
       "      <td>3</td>\n",
       "      <td>2022</td>\n",
       "      <td>10</td>\n",
       "      <td>20</td>\n",
       "      <td>1320</td>\n",
       "      <td>0</td>\n",
       "      <td>133895612</td>\n",
       "      <td>29</td>\n",
       "      <td>...</td>\n",
       "      <td>97</td>\n",
       "      <td>C#</td>\n",
       "      <td>Major</td>\n",
       "      <td>82</td>\n",
       "      <td>67</td>\n",
       "      <td>77</td>\n",
       "      <td>8</td>\n",
       "      <td>0</td>\n",
       "      <td>12</td>\n",
       "      <td>5</td>\n",
       "    </tr>\n",
       "    <tr>\n",
       "      <th>952</th>\n",
       "      <td>Alone</td>\n",
       "      <td>Burna Boy</td>\n",
       "      <td>1</td>\n",
       "      <td>2022</td>\n",
       "      <td>11</td>\n",
       "      <td>4</td>\n",
       "      <td>782</td>\n",
       "      <td>2</td>\n",
       "      <td>96007391</td>\n",
       "      <td>27</td>\n",
       "      <td>...</td>\n",
       "      <td>90</td>\n",
       "      <td>E</td>\n",
       "      <td>Minor</td>\n",
       "      <td>61</td>\n",
       "      <td>32</td>\n",
       "      <td>67</td>\n",
       "      <td>15</td>\n",
       "      <td>0</td>\n",
       "      <td>11</td>\n",
       "      <td>5</td>\n",
       "    </tr>\n",
       "  </tbody>\n",
       "</table>\n",
       "<p>953 rows × 24 columns</p>\n",
       "</div>"
      ],
      "text/plain": [
       "                              track_name      artist(s)_name  artist_count  \\\n",
       "0    Seven (feat. Latto) (Explicit Ver.)    Latto, Jung Kook             2   \n",
       "1                                   LALA         Myke Towers             1   \n",
       "2                                vampire      Olivia Rodrigo             1   \n",
       "3                           Cruel Summer        Taylor Swift             1   \n",
       "4                         WHERE SHE GOES           Bad Bunny             1   \n",
       "..                                   ...                 ...           ...   \n",
       "948                         My Mind & Me        Selena Gomez             1   \n",
       "949            Bigger Than The Whole Sky        Taylor Swift             1   \n",
       "950                 A Veces (feat. Feid)  Feid, Paulo Londra             2   \n",
       "951                        En La De Ella  Feid, Sech, Jhayco             3   \n",
       "952                                Alone           Burna Boy             1   \n",
       "\n",
       "     released_year  released_month  released_day  in_spotify_playlists  \\\n",
       "0             2023               7            14                   553   \n",
       "1             2023               3            23                  1474   \n",
       "2             2023               6            30                  1397   \n",
       "3             2019               8            23                  7858   \n",
       "4             2023               5            18                  3133   \n",
       "..             ...             ...           ...                   ...   \n",
       "948           2022              11             3                   953   \n",
       "949           2022              10            21                  1180   \n",
       "950           2022              11             3                   573   \n",
       "951           2022              10            20                  1320   \n",
       "952           2022              11             4                   782   \n",
       "\n",
       "     in_spotify_charts    streams  in_apple_playlists  ...  bpm key   mode  \\\n",
       "0                  147  141381703                  43  ...  125   B  Major   \n",
       "1                   48  133716286                  48  ...   92  C#  Major   \n",
       "2                  113  140003974                  94  ...  138   F  Major   \n",
       "3                  100  800840817                 116  ...  170   A  Major   \n",
       "4                   50  303236322                  84  ...  144   A  Minor   \n",
       "..                 ...        ...                 ...  ...  ...  ..    ...   \n",
       "948                  0   91473363                  61  ...  144   A  Major   \n",
       "949                  0  121871870                   4  ...  166  F#  Major   \n",
       "950                  0   73513683                   2  ...   92  C#  Major   \n",
       "951                  0  133895612                  29  ...   97  C#  Major   \n",
       "952                  2   96007391                  27  ...   90   E  Minor   \n",
       "\n",
       "    danceability_%  valence_% energy_% acousticness_%  instrumentalness_%  \\\n",
       "0               80         89       83             31                   0   \n",
       "1               71         61       74              7                   0   \n",
       "2               51         32       53             17                   0   \n",
       "3               55         58       72             11                   0   \n",
       "4               65         23       80             14                  63   \n",
       "..             ...        ...      ...            ...                 ...   \n",
       "948             60         24       39             57                   0   \n",
       "949             42          7       24             83                   1   \n",
       "950             80         81       67              4                   0   \n",
       "951             82         67       77              8                   0   \n",
       "952             61         32       67             15                   0   \n",
       "\n",
       "     liveness_%  speechiness_%  \n",
       "0             8              4  \n",
       "1            10              4  \n",
       "2            31              6  \n",
       "3            11             15  \n",
       "4            11              6  \n",
       "..          ...            ...  \n",
       "948           8              3  \n",
       "949          12              6  \n",
       "950           8              6  \n",
       "951          12              5  \n",
       "952          11              5  \n",
       "\n",
       "[953 rows x 24 columns]"
      ]
     },
     "execution_count": 732,
     "metadata": {},
     "output_type": "execute_result"
    }
   ],
   "source": [
    "import pandas as pd\n",
    "df = pd.read_csv(\"spotify-2023.csv\", encoding='latin-1')\n",
    "df"
   ]
  },
  {
   "cell_type": "markdown",
   "metadata": {},
   "source": [
    "# Section 2: Exploratory Data Analysis"
   ]
  },
  {
   "cell_type": "markdown",
   "metadata": {},
   "source": [
    "## Intro"
   ]
  },
  {
   "cell_type": "markdown",
   "metadata": {},
   "source": [
    "I wanted to use a combination of different descriptive stats to answer some overall and then some more specific questions about my data. Before I get into the statistics I decided to analyze, I'd like to mention my big three first, as I'll be using them throughout this section. My big three are my top three favorite artists (in general and then also on my spotify wrapped!): Taylor Swift, Beyonce, and Lana Del Rey. First I wanted to look at size: the 10 songs that had the highest danceability rankings, and then the song with the largest danceability ranking for each of my big three. I also wanted to look at the total number of streams, and what percentage of that each of my big three took up. However, when I ran the numbers, the total was crazy large, and wouldn't convert to a numeric value. At first I thought the size was the issue, but then I realized I just had to clean up the streams column, and I made a new column (streams2) in the dataframe for efficency. Then I was able to find the total. Additionally, I did a comparison for the mean; I chose to find how many of my big three's songs were above the overall mean streams per song. Finally, I used some groupby to discover the real big three (the top three streamed artist according to the dataset). "
   ]
  },
  {
   "cell_type": "markdown",
   "metadata": {},
   "source": [
    "## Code"
   ]
  },
  {
   "cell_type": "code",
   "execution_count": 733,
   "metadata": {},
   "outputs": [],
   "source": [
    "#Had to fix streams column\n",
    "Streams_Numeric = pd.to_numeric(df[\"streams\"],errors=\"coerce\")\n",
    "df[\"streams2\"] = Streams_Numeric"
   ]
  },
  {
   "cell_type": "markdown",
   "metadata": {},
   "source": [
    "### Part 1: Top Danceability\n"
   ]
  },
  {
   "cell_type": "markdown",
   "metadata": {},
   "source": [
    "##### Find the 10 songs with the highest danceability ranking"
   ]
  },
  {
   "cell_type": "code",
   "execution_count": 734,
   "metadata": {},
   "outputs": [
    {
     "data": {
      "text/html": [
       "<div>\n",
       "<style scoped>\n",
       "    .dataframe tbody tr th:only-of-type {\n",
       "        vertical-align: middle;\n",
       "    }\n",
       "\n",
       "    .dataframe tbody tr th {\n",
       "        vertical-align: top;\n",
       "    }\n",
       "\n",
       "    .dataframe thead th {\n",
       "        text-align: right;\n",
       "    }\n",
       "</style>\n",
       "<table border=\"1\" class=\"dataframe\">\n",
       "  <thead>\n",
       "    <tr style=\"text-align: right;\">\n",
       "      <th></th>\n",
       "      <th>track_name</th>\n",
       "      <th>artist(s)_name</th>\n",
       "      <th>artist_count</th>\n",
       "      <th>released_year</th>\n",
       "      <th>released_month</th>\n",
       "      <th>released_day</th>\n",
       "      <th>in_spotify_playlists</th>\n",
       "      <th>in_spotify_charts</th>\n",
       "      <th>streams</th>\n",
       "      <th>in_apple_playlists</th>\n",
       "      <th>...</th>\n",
       "      <th>key</th>\n",
       "      <th>mode</th>\n",
       "      <th>danceability_%</th>\n",
       "      <th>valence_%</th>\n",
       "      <th>energy_%</th>\n",
       "      <th>acousticness_%</th>\n",
       "      <th>instrumentalness_%</th>\n",
       "      <th>liveness_%</th>\n",
       "      <th>speechiness_%</th>\n",
       "      <th>streams2</th>\n",
       "    </tr>\n",
       "  </thead>\n",
       "  <tbody>\n",
       "    <tr>\n",
       "      <th>595</th>\n",
       "      <td>Peru</td>\n",
       "      <td>Ed Sheeran, Fireboy DML</td>\n",
       "      <td>2</td>\n",
       "      <td>2021</td>\n",
       "      <td>12</td>\n",
       "      <td>23</td>\n",
       "      <td>2999</td>\n",
       "      <td>0</td>\n",
       "      <td>261286503</td>\n",
       "      <td>60</td>\n",
       "      <td>...</td>\n",
       "      <td>G</td>\n",
       "      <td>Minor</td>\n",
       "      <td>96</td>\n",
       "      <td>71</td>\n",
       "      <td>42</td>\n",
       "      <td>57</td>\n",
       "      <td>0</td>\n",
       "      <td>8</td>\n",
       "      <td>9</td>\n",
       "      <td>2.612865e+08</td>\n",
       "    </tr>\n",
       "    <tr>\n",
       "      <th>224</th>\n",
       "      <td>Players</td>\n",
       "      <td>Coi Leray</td>\n",
       "      <td>1</td>\n",
       "      <td>2022</td>\n",
       "      <td>11</td>\n",
       "      <td>30</td>\n",
       "      <td>4096</td>\n",
       "      <td>6</td>\n",
       "      <td>335074782</td>\n",
       "      <td>118</td>\n",
       "      <td>...</td>\n",
       "      <td>F#</td>\n",
       "      <td>Major</td>\n",
       "      <td>95</td>\n",
       "      <td>62</td>\n",
       "      <td>52</td>\n",
       "      <td>3</td>\n",
       "      <td>0</td>\n",
       "      <td>5</td>\n",
       "      <td>16</td>\n",
       "      <td>3.350748e+08</td>\n",
       "    </tr>\n",
       "    <tr>\n",
       "      <th>250</th>\n",
       "      <td>The Real Slim Shady</td>\n",
       "      <td>Eminem</td>\n",
       "      <td>1</td>\n",
       "      <td>2000</td>\n",
       "      <td>1</td>\n",
       "      <td>1</td>\n",
       "      <td>20763</td>\n",
       "      <td>27</td>\n",
       "      <td>1424589568</td>\n",
       "      <td>81</td>\n",
       "      <td>...</td>\n",
       "      <td>F</td>\n",
       "      <td>Minor</td>\n",
       "      <td>95</td>\n",
       "      <td>78</td>\n",
       "      <td>66</td>\n",
       "      <td>3</td>\n",
       "      <td>0</td>\n",
       "      <td>4</td>\n",
       "      <td>6</td>\n",
       "      <td>1.424590e+09</td>\n",
       "    </tr>\n",
       "    <tr>\n",
       "      <th>321</th>\n",
       "      <td>CAIRO</td>\n",
       "      <td>Karol G, Ovy On The Drums</td>\n",
       "      <td>2</td>\n",
       "      <td>2022</td>\n",
       "      <td>11</td>\n",
       "      <td>13</td>\n",
       "      <td>2418</td>\n",
       "      <td>26</td>\n",
       "      <td>294352144</td>\n",
       "      <td>52</td>\n",
       "      <td>...</td>\n",
       "      <td>F</td>\n",
       "      <td>Minor</td>\n",
       "      <td>95</td>\n",
       "      <td>43</td>\n",
       "      <td>69</td>\n",
       "      <td>47</td>\n",
       "      <td>0</td>\n",
       "      <td>9</td>\n",
       "      <td>31</td>\n",
       "      <td>2.943521e+08</td>\n",
       "    </tr>\n",
       "    <tr>\n",
       "      <th>423</th>\n",
       "      <td>Super Freaky Girl</td>\n",
       "      <td>Nicki Minaj</td>\n",
       "      <td>1</td>\n",
       "      <td>2022</td>\n",
       "      <td>8</td>\n",
       "      <td>12</td>\n",
       "      <td>4827</td>\n",
       "      <td>0</td>\n",
       "      <td>428685680</td>\n",
       "      <td>104</td>\n",
       "      <td>...</td>\n",
       "      <td>D</td>\n",
       "      <td>Major</td>\n",
       "      <td>95</td>\n",
       "      <td>91</td>\n",
       "      <td>89</td>\n",
       "      <td>6</td>\n",
       "      <td>0</td>\n",
       "      <td>31</td>\n",
       "      <td>24</td>\n",
       "      <td>4.286857e+08</td>\n",
       "    </tr>\n",
       "    <tr>\n",
       "      <th>702</th>\n",
       "      <td>Starlight</td>\n",
       "      <td>Dave</td>\n",
       "      <td>1</td>\n",
       "      <td>2022</td>\n",
       "      <td>3</td>\n",
       "      <td>3</td>\n",
       "      <td>1856</td>\n",
       "      <td>3</td>\n",
       "      <td>229473310</td>\n",
       "      <td>29</td>\n",
       "      <td>...</td>\n",
       "      <td>G</td>\n",
       "      <td>Major</td>\n",
       "      <td>95</td>\n",
       "      <td>36</td>\n",
       "      <td>37</td>\n",
       "      <td>35</td>\n",
       "      <td>0</td>\n",
       "      <td>10</td>\n",
       "      <td>28</td>\n",
       "      <td>2.294733e+08</td>\n",
       "    </tr>\n",
       "    <tr>\n",
       "      <th>876</th>\n",
       "      <td>Ai Preto</td>\n",
       "      <td>L7nnon, DJ Biel do Furduncinho, Bianca</td>\n",
       "      <td>3</td>\n",
       "      <td>2022</td>\n",
       "      <td>6</td>\n",
       "      <td>3</td>\n",
       "      <td>894</td>\n",
       "      <td>4</td>\n",
       "      <td>176103902</td>\n",
       "      <td>28</td>\n",
       "      <td>...</td>\n",
       "      <td>F#</td>\n",
       "      <td>Major</td>\n",
       "      <td>95</td>\n",
       "      <td>83</td>\n",
       "      <td>57</td>\n",
       "      <td>54</td>\n",
       "      <td>0</td>\n",
       "      <td>10</td>\n",
       "      <td>25</td>\n",
       "      <td>1.761039e+08</td>\n",
       "    </tr>\n",
       "    <tr>\n",
       "      <th>268</th>\n",
       "      <td>Slut Me Out</td>\n",
       "      <td>NLE Choppa</td>\n",
       "      <td>1</td>\n",
       "      <td>2022</td>\n",
       "      <td>4</td>\n",
       "      <td>22</td>\n",
       "      <td>816</td>\n",
       "      <td>4</td>\n",
       "      <td>190490915</td>\n",
       "      <td>21</td>\n",
       "      <td>...</td>\n",
       "      <td>F#</td>\n",
       "      <td>Minor</td>\n",
       "      <td>94</td>\n",
       "      <td>71</td>\n",
       "      <td>61</td>\n",
       "      <td>12</td>\n",
       "      <td>0</td>\n",
       "      <td>53</td>\n",
       "      <td>42</td>\n",
       "      <td>1.904909e+08</td>\n",
       "    </tr>\n",
       "    <tr>\n",
       "      <th>142</th>\n",
       "      <td>Gol Bolinha, Gol Quadrado 2</td>\n",
       "      <td>Mc Pedrinho, DJ 900</td>\n",
       "      <td>2</td>\n",
       "      <td>2023</td>\n",
       "      <td>6</td>\n",
       "      <td>1</td>\n",
       "      <td>293</td>\n",
       "      <td>8</td>\n",
       "      <td>11956641</td>\n",
       "      <td>5</td>\n",
       "      <td>...</td>\n",
       "      <td>B</td>\n",
       "      <td>Minor</td>\n",
       "      <td>93</td>\n",
       "      <td>68</td>\n",
       "      <td>65</td>\n",
       "      <td>42</td>\n",
       "      <td>0</td>\n",
       "      <td>12</td>\n",
       "      <td>25</td>\n",
       "      <td>1.195664e+07</td>\n",
       "    </tr>\n",
       "    <tr>\n",
       "      <th>266</th>\n",
       "      <td>Shorty Party</td>\n",
       "      <td>Cartel De Santa, La Kelly</td>\n",
       "      <td>2</td>\n",
       "      <td>2023</td>\n",
       "      <td>3</td>\n",
       "      <td>4</td>\n",
       "      <td>432</td>\n",
       "      <td>12</td>\n",
       "      <td>162887075</td>\n",
       "      <td>8</td>\n",
       "      <td>...</td>\n",
       "      <td>D</td>\n",
       "      <td>Major</td>\n",
       "      <td>93</td>\n",
       "      <td>47</td>\n",
       "      <td>47</td>\n",
       "      <td>33</td>\n",
       "      <td>0</td>\n",
       "      <td>10</td>\n",
       "      <td>36</td>\n",
       "      <td>1.628871e+08</td>\n",
       "    </tr>\n",
       "  </tbody>\n",
       "</table>\n",
       "<p>10 rows × 25 columns</p>\n",
       "</div>"
      ],
      "text/plain": [
       "                      track_name                          artist(s)_name  \\\n",
       "595                         Peru                 Ed Sheeran, Fireboy DML   \n",
       "224                      Players                               Coi Leray   \n",
       "250          The Real Slim Shady                                  Eminem   \n",
       "321                        CAIRO               Karol G, Ovy On The Drums   \n",
       "423            Super Freaky Girl                             Nicki Minaj   \n",
       "702                    Starlight                                    Dave   \n",
       "876                     Ai Preto  L7nnon, DJ Biel do Furduncinho, Bianca   \n",
       "268                  Slut Me Out                              NLE Choppa   \n",
       "142  Gol Bolinha, Gol Quadrado 2                     Mc Pedrinho, DJ 900   \n",
       "266                 Shorty Party               Cartel De Santa, La Kelly   \n",
       "\n",
       "     artist_count  released_year  released_month  released_day  \\\n",
       "595             2           2021              12            23   \n",
       "224             1           2022              11            30   \n",
       "250             1           2000               1             1   \n",
       "321             2           2022              11            13   \n",
       "423             1           2022               8            12   \n",
       "702             1           2022               3             3   \n",
       "876             3           2022               6             3   \n",
       "268             1           2022               4            22   \n",
       "142             2           2023               6             1   \n",
       "266             2           2023               3             4   \n",
       "\n",
       "     in_spotify_playlists  in_spotify_charts     streams  in_apple_playlists  \\\n",
       "595                  2999                  0   261286503                  60   \n",
       "224                  4096                  6   335074782                 118   \n",
       "250                 20763                 27  1424589568                  81   \n",
       "321                  2418                 26   294352144                  52   \n",
       "423                  4827                  0   428685680                 104   \n",
       "702                  1856                  3   229473310                  29   \n",
       "876                   894                  4   176103902                  28   \n",
       "268                   816                  4   190490915                  21   \n",
       "142                   293                  8    11956641                   5   \n",
       "266                   432                 12   162887075                   8   \n",
       "\n",
       "     ...  key   mode  danceability_% valence_%  energy_% acousticness_%  \\\n",
       "595  ...    G  Minor              96        71        42             57   \n",
       "224  ...   F#  Major              95        62        52              3   \n",
       "250  ...    F  Minor              95        78        66              3   \n",
       "321  ...    F  Minor              95        43        69             47   \n",
       "423  ...    D  Major              95        91        89              6   \n",
       "702  ...    G  Major              95        36        37             35   \n",
       "876  ...   F#  Major              95        83        57             54   \n",
       "268  ...   F#  Minor              94        71        61             12   \n",
       "142  ...    B  Minor              93        68        65             42   \n",
       "266  ...    D  Major              93        47        47             33   \n",
       "\n",
       "    instrumentalness_%  liveness_%  speechiness_%      streams2  \n",
       "595                  0           8              9  2.612865e+08  \n",
       "224                  0           5             16  3.350748e+08  \n",
       "250                  0           4              6  1.424590e+09  \n",
       "321                  0           9             31  2.943521e+08  \n",
       "423                  0          31             24  4.286857e+08  \n",
       "702                  0          10             28  2.294733e+08  \n",
       "876                  0          10             25  1.761039e+08  \n",
       "268                  0          53             42  1.904909e+08  \n",
       "142                  0          12             25  1.195664e+07  \n",
       "266                  0          10             36  1.628871e+08  \n",
       "\n",
       "[10 rows x 25 columns]"
      ]
     },
     "execution_count": 734,
     "metadata": {},
     "output_type": "execute_result"
    }
   ],
   "source": [
    "df.nlargest(10, 'danceability_%')"
   ]
  },
  {
   "cell_type": "markdown",
   "metadata": {},
   "source": [
    "##### Find the song with the highest danceability ranking for the big three"
   ]
  },
  {
   "cell_type": "code",
   "execution_count": 735,
   "metadata": {},
   "outputs": [],
   "source": [
    "#Taylor Swift variable \n",
    "Taylor = df[df[\"artist(s)_name\"] == \"Taylor Swift\"]"
   ]
  },
  {
   "cell_type": "code",
   "execution_count": 736,
   "metadata": {},
   "outputs": [
    {
     "data": {
      "text/html": [
       "<div>\n",
       "<style scoped>\n",
       "    .dataframe tbody tr th:only-of-type {\n",
       "        vertical-align: middle;\n",
       "    }\n",
       "\n",
       "    .dataframe tbody tr th {\n",
       "        vertical-align: top;\n",
       "    }\n",
       "\n",
       "    .dataframe thead th {\n",
       "        text-align: right;\n",
       "    }\n",
       "</style>\n",
       "<table border=\"1\" class=\"dataframe\">\n",
       "  <thead>\n",
       "    <tr style=\"text-align: right;\">\n",
       "      <th></th>\n",
       "      <th>track_name</th>\n",
       "      <th>artist(s)_name</th>\n",
       "      <th>artist_count</th>\n",
       "      <th>released_year</th>\n",
       "      <th>released_month</th>\n",
       "      <th>released_day</th>\n",
       "      <th>in_spotify_playlists</th>\n",
       "      <th>in_spotify_charts</th>\n",
       "      <th>streams</th>\n",
       "      <th>in_apple_playlists</th>\n",
       "      <th>...</th>\n",
       "      <th>key</th>\n",
       "      <th>mode</th>\n",
       "      <th>danceability_%</th>\n",
       "      <th>valence_%</th>\n",
       "      <th>energy_%</th>\n",
       "      <th>acousticness_%</th>\n",
       "      <th>instrumentalness_%</th>\n",
       "      <th>liveness_%</th>\n",
       "      <th>speechiness_%</th>\n",
       "      <th>streams2</th>\n",
       "    </tr>\n",
       "  </thead>\n",
       "  <tbody>\n",
       "    <tr>\n",
       "      <th>933</th>\n",
       "      <td>Vigilante Shit</td>\n",
       "      <td>Taylor Swift</td>\n",
       "      <td>1</td>\n",
       "      <td>2022</td>\n",
       "      <td>10</td>\n",
       "      <td>21</td>\n",
       "      <td>1948</td>\n",
       "      <td>0</td>\n",
       "      <td>253650850</td>\n",
       "      <td>12</td>\n",
       "      <td>...</td>\n",
       "      <td>E</td>\n",
       "      <td>Minor</td>\n",
       "      <td>80</td>\n",
       "      <td>16</td>\n",
       "      <td>28</td>\n",
       "      <td>17</td>\n",
       "      <td>0</td>\n",
       "      <td>12</td>\n",
       "      <td>39</td>\n",
       "      <td>253650850.0</td>\n",
       "    </tr>\n",
       "  </tbody>\n",
       "</table>\n",
       "<p>1 rows × 25 columns</p>\n",
       "</div>"
      ],
      "text/plain": [
       "         track_name artist(s)_name  artist_count  released_year  \\\n",
       "933  Vigilante Shit   Taylor Swift             1           2022   \n",
       "\n",
       "     released_month  released_day  in_spotify_playlists  in_spotify_charts  \\\n",
       "933              10            21                  1948                  0   \n",
       "\n",
       "       streams  in_apple_playlists  ...  key   mode  danceability_% valence_%  \\\n",
       "933  253650850                  12  ...    E  Minor              80        16   \n",
       "\n",
       "     energy_% acousticness_% instrumentalness_%  liveness_%  speechiness_%  \\\n",
       "933        28             17                  0          12             39   \n",
       "\n",
       "        streams2  \n",
       "933  253650850.0  \n",
       "\n",
       "[1 rows x 25 columns]"
      ]
     },
     "execution_count": 736,
     "metadata": {},
     "output_type": "execute_result"
    }
   ],
   "source": [
    "Taylor.nlargest(1, 'danceability_%')"
   ]
  },
  {
   "cell_type": "code",
   "execution_count": 737,
   "metadata": {},
   "outputs": [],
   "source": [
    "#Beyonce Variable\n",
    "## The e in Beyonce's name got mixed up so this is me fixing it \n",
    "df.loc[df[\"artist(s)_name\"] == \"Beyoncï¿\", \"artist(s)_name\"]= \"Beyonce\"\n",
    "Beyonce = df[df[\"artist(s)_name\"] == \"Beyonce\"]\n"
   ]
  },
  {
   "cell_type": "code",
   "execution_count": 738,
   "metadata": {},
   "outputs": [
    {
     "data": {
      "text/html": [
       "<div>\n",
       "<style scoped>\n",
       "    .dataframe tbody tr th:only-of-type {\n",
       "        vertical-align: middle;\n",
       "    }\n",
       "\n",
       "    .dataframe tbody tr th {\n",
       "        vertical-align: top;\n",
       "    }\n",
       "\n",
       "    .dataframe thead th {\n",
       "        text-align: right;\n",
       "    }\n",
       "</style>\n",
       "<table border=\"1\" class=\"dataframe\">\n",
       "  <thead>\n",
       "    <tr style=\"text-align: right;\">\n",
       "      <th></th>\n",
       "      <th>track_name</th>\n",
       "      <th>artist(s)_name</th>\n",
       "      <th>artist_count</th>\n",
       "      <th>released_year</th>\n",
       "      <th>released_month</th>\n",
       "      <th>released_day</th>\n",
       "      <th>in_spotify_playlists</th>\n",
       "      <th>in_spotify_charts</th>\n",
       "      <th>streams</th>\n",
       "      <th>in_apple_playlists</th>\n",
       "      <th>...</th>\n",
       "      <th>key</th>\n",
       "      <th>mode</th>\n",
       "      <th>danceability_%</th>\n",
       "      <th>valence_%</th>\n",
       "      <th>energy_%</th>\n",
       "      <th>acousticness_%</th>\n",
       "      <th>instrumentalness_%</th>\n",
       "      <th>liveness_%</th>\n",
       "      <th>speechiness_%</th>\n",
       "      <th>streams2</th>\n",
       "    </tr>\n",
       "  </thead>\n",
       "  <tbody>\n",
       "    <tr>\n",
       "      <th>231</th>\n",
       "      <td>CUFF IT</td>\n",
       "      <td>Beyonce</td>\n",
       "      <td>1</td>\n",
       "      <td>2022</td>\n",
       "      <td>7</td>\n",
       "      <td>29</td>\n",
       "      <td>7842</td>\n",
       "      <td>10</td>\n",
       "      <td>595900742</td>\n",
       "      <td>215</td>\n",
       "      <td>...</td>\n",
       "      <td>G</td>\n",
       "      <td>Major</td>\n",
       "      <td>78</td>\n",
       "      <td>64</td>\n",
       "      <td>69</td>\n",
       "      <td>4</td>\n",
       "      <td>0</td>\n",
       "      <td>7</td>\n",
       "      <td>14</td>\n",
       "      <td>595900742.0</td>\n",
       "    </tr>\n",
       "  </tbody>\n",
       "</table>\n",
       "<p>1 rows × 25 columns</p>\n",
       "</div>"
      ],
      "text/plain": [
       "    track_name artist(s)_name  artist_count  released_year  released_month  \\\n",
       "231    CUFF IT        Beyonce             1           2022               7   \n",
       "\n",
       "     released_day  in_spotify_playlists  in_spotify_charts    streams  \\\n",
       "231            29                  7842                 10  595900742   \n",
       "\n",
       "     in_apple_playlists  ...  key   mode  danceability_% valence_%  energy_%  \\\n",
       "231                 215  ...    G  Major              78        64        69   \n",
       "\n",
       "    acousticness_% instrumentalness_%  liveness_%  speechiness_%     streams2  \n",
       "231              4                  0           7             14  595900742.0  \n",
       "\n",
       "[1 rows x 25 columns]"
      ]
     },
     "execution_count": 738,
     "metadata": {},
     "output_type": "execute_result"
    }
   ],
   "source": [
    "Beyonce.nlargest(1, 'danceability_%')"
   ]
  },
  {
   "cell_type": "code",
   "execution_count": 739,
   "metadata": {},
   "outputs": [],
   "source": [
    "#Lana Del Rey Variable\n",
    "Lana = df[df[\"artist(s)_name\"] == \"Lana Del Rey\"]"
   ]
  },
  {
   "cell_type": "code",
   "execution_count": 740,
   "metadata": {},
   "outputs": [
    {
     "data": {
      "text/html": [
       "<div>\n",
       "<style scoped>\n",
       "    .dataframe tbody tr th:only-of-type {\n",
       "        vertical-align: middle;\n",
       "    }\n",
       "\n",
       "    .dataframe tbody tr th {\n",
       "        vertical-align: top;\n",
       "    }\n",
       "\n",
       "    .dataframe thead th {\n",
       "        text-align: right;\n",
       "    }\n",
       "</style>\n",
       "<table border=\"1\" class=\"dataframe\">\n",
       "  <thead>\n",
       "    <tr style=\"text-align: right;\">\n",
       "      <th></th>\n",
       "      <th>track_name</th>\n",
       "      <th>artist(s)_name</th>\n",
       "      <th>artist_count</th>\n",
       "      <th>released_year</th>\n",
       "      <th>released_month</th>\n",
       "      <th>released_day</th>\n",
       "      <th>in_spotify_playlists</th>\n",
       "      <th>in_spotify_charts</th>\n",
       "      <th>streams</th>\n",
       "      <th>in_apple_playlists</th>\n",
       "      <th>...</th>\n",
       "      <th>key</th>\n",
       "      <th>mode</th>\n",
       "      <th>danceability_%</th>\n",
       "      <th>valence_%</th>\n",
       "      <th>energy_%</th>\n",
       "      <th>acousticness_%</th>\n",
       "      <th>instrumentalness_%</th>\n",
       "      <th>liveness_%</th>\n",
       "      <th>speechiness_%</th>\n",
       "      <th>streams2</th>\n",
       "    </tr>\n",
       "  </thead>\n",
       "  <tbody>\n",
       "    <tr>\n",
       "      <th>98</th>\n",
       "      <td>Summertime Sadness</td>\n",
       "      <td>Lana Del Rey</td>\n",
       "      <td>1</td>\n",
       "      <td>2011</td>\n",
       "      <td>1</td>\n",
       "      <td>1</td>\n",
       "      <td>20333</td>\n",
       "      <td>52</td>\n",
       "      <td>983637508</td>\n",
       "      <td>89</td>\n",
       "      <td>...</td>\n",
       "      <td>C#</td>\n",
       "      <td>Minor</td>\n",
       "      <td>56</td>\n",
       "      <td>24</td>\n",
       "      <td>66</td>\n",
       "      <td>7</td>\n",
       "      <td>0</td>\n",
       "      <td>12</td>\n",
       "      <td>3</td>\n",
       "      <td>983637508.0</td>\n",
       "    </tr>\n",
       "  </tbody>\n",
       "</table>\n",
       "<p>1 rows × 25 columns</p>\n",
       "</div>"
      ],
      "text/plain": [
       "            track_name artist(s)_name  artist_count  released_year  \\\n",
       "98  Summertime Sadness   Lana Del Rey             1           2011   \n",
       "\n",
       "    released_month  released_day  in_spotify_playlists  in_spotify_charts  \\\n",
       "98               1             1                 20333                 52   \n",
       "\n",
       "      streams  in_apple_playlists  ...  key   mode  danceability_% valence_%  \\\n",
       "98  983637508                  89  ...   C#  Minor              56        24   \n",
       "\n",
       "    energy_% acousticness_% instrumentalness_%  liveness_%  speechiness_%  \\\n",
       "98        66              7                  0          12              3   \n",
       "\n",
       "       streams2  \n",
       "98  983637508.0  \n",
       "\n",
       "[1 rows x 25 columns]"
      ]
     },
     "execution_count": 740,
     "metadata": {},
     "output_type": "execute_result"
    }
   ],
   "source": [
    "Lana.nlargest(1, 'danceability_%')"
   ]
  },
  {
   "cell_type": "markdown",
   "metadata": {},
   "source": [
    "### Part 2: Total Streams\n"
   ]
  },
  {
   "cell_type": "markdown",
   "metadata": {},
   "source": [
    "##### Find the total number of streams "
   ]
  },
  {
   "cell_type": "code",
   "execution_count": 741,
   "metadata": {},
   "outputs": [
    {
     "data": {
      "text/plain": [
       "489458828542"
      ]
     },
     "execution_count": 741,
     "metadata": {},
     "output_type": "execute_result"
    }
   ],
   "source": [
    "total = df[\"streams2\"].sum()\n",
    "total = int(total)\n",
    "total"
   ]
  },
  {
   "cell_type": "markdown",
   "metadata": {},
   "source": [
    "##### Find the total streams for each of the big three "
   ]
  },
  {
   "cell_type": "code",
   "execution_count": 742,
   "metadata": {},
   "outputs": [
    {
     "data": {
      "text/plain": [
       "14053658300"
      ]
     },
     "execution_count": 742,
     "metadata": {},
     "output_type": "execute_result"
    }
   ],
   "source": [
    "#Taylor Swift\n",
    "Taylor_total = Taylor[\"streams2\"].sum()\n",
    "Taylor_total = int(Taylor_total)\n",
    "Taylor_total"
   ]
  },
  {
   "cell_type": "code",
   "execution_count": 743,
   "metadata": {},
   "outputs": [
    {
     "data": {
      "text/plain": [
       "1122304190"
      ]
     },
     "execution_count": 743,
     "metadata": {},
     "output_type": "execute_result"
    }
   ],
   "source": [
    "#Beyonce\n",
    "Beyonce_total = Beyonce[\"streams2\"].sum()\n",
    "Beyonce_total = int(Beyonce_total)\n",
    "Beyonce_total"
   ]
  },
  {
   "cell_type": "code",
   "execution_count": 744,
   "metadata": {},
   "outputs": [
    {
     "data": {
      "text/plain": [
       "1396024922"
      ]
     },
     "execution_count": 744,
     "metadata": {},
     "output_type": "execute_result"
    }
   ],
   "source": [
    "#Lana Del Rey\n",
    "Lana_total = Lana[\"streams2\"].sum()\n",
    "Lana_total = int(Lana_total)\n",
    "Lana_total"
   ]
  },
  {
   "cell_type": "markdown",
   "metadata": {},
   "source": [
    "##### Find the percentage that each of the big three totals take up of the total streams "
   ]
  },
  {
   "cell_type": "code",
   "execution_count": 745,
   "metadata": {},
   "outputs": [
    {
     "name": "stdout",
     "output_type": "stream",
     "text": [
      "0.0287126464586675 0.002292949119628958 0.0028521804911732394\n"
     ]
    }
   ],
   "source": [
    "TaylorPer = Taylor_total/total\n",
    "BeyoncePer = Beyonce_total/total\n",
    "LanaPer = Lana_total/total\n",
    "print (TaylorPer , BeyoncePer, LanaPer)"
   ]
  },
  {
   "cell_type": "markdown",
   "metadata": {},
   "source": [
    "### Part 3: Mean streams"
   ]
  },
  {
   "cell_type": "markdown",
   "metadata": {},
   "source": [
    "##### Find the overall average streams"
   ]
  },
  {
   "cell_type": "code",
   "execution_count": 746,
   "metadata": {},
   "outputs": [
    {
     "data": {
      "text/plain": [
       "514137424.93907565"
      ]
     },
     "execution_count": 746,
     "metadata": {},
     "output_type": "execute_result"
    }
   ],
   "source": [
    "mean = df[\"streams2\"].mean()\n",
    "mean"
   ]
  },
  {
   "cell_type": "markdown",
   "metadata": {},
   "source": [
    "##### Find the average streams for the big three"
   ]
  },
  {
   "cell_type": "code",
   "execution_count": 747,
   "metadata": {},
   "outputs": [
    {
     "data": {
      "text/plain": [
       "413342891.1764706"
      ]
     },
     "execution_count": 747,
     "metadata": {},
     "output_type": "execute_result"
    }
   ],
   "source": [
    "Taylor_mean = Taylor[\"streams2\"].mean()\n",
    "Taylor_mean"
   ]
  },
  {
   "cell_type": "code",
   "execution_count": 748,
   "metadata": {},
   "outputs": [
    {
     "data": {
      "text/plain": [
       "374101396.6666667"
      ]
     },
     "execution_count": 748,
     "metadata": {},
     "output_type": "execute_result"
    }
   ],
   "source": [
    "Beyonce_mean = Beyonce[\"streams2\"].mean()\n",
    "Beyonce_mean"
   ]
  },
  {
   "cell_type": "code",
   "execution_count": 749,
   "metadata": {},
   "outputs": [
    {
     "data": {
      "text/plain": [
       "465341640.6666667"
      ]
     },
     "execution_count": 749,
     "metadata": {},
     "output_type": "execute_result"
    }
   ],
   "source": [
    "Lana_mean = Lana[\"streams2\"].mean()\n",
    "Lana_mean"
   ]
  },
  {
   "cell_type": "markdown",
   "metadata": {},
   "source": [
    "None of the average streams for my big three were greater than the mean stream! Curious..."
   ]
  },
  {
   "cell_type": "markdown",
   "metadata": {},
   "source": [
    "### Part 4: The Real \"Top Three\""
   ]
  },
  {
   "cell_type": "markdown",
   "metadata": {},
   "source": [
    "#### Make a simplified dataset"
   ]
  },
  {
   "cell_type": "code",
   "execution_count": 750,
   "metadata": {},
   "outputs": [
    {
     "data": {
      "text/html": [
       "<div>\n",
       "<style scoped>\n",
       "    .dataframe tbody tr th:only-of-type {\n",
       "        vertical-align: middle;\n",
       "    }\n",
       "\n",
       "    .dataframe tbody tr th {\n",
       "        vertical-align: top;\n",
       "    }\n",
       "\n",
       "    .dataframe thead th {\n",
       "        text-align: right;\n",
       "    }\n",
       "</style>\n",
       "<table border=\"1\" class=\"dataframe\">\n",
       "  <thead>\n",
       "    <tr style=\"text-align: right;\">\n",
       "      <th></th>\n",
       "      <th>artist(s)_name</th>\n",
       "      <th>streams2</th>\n",
       "    </tr>\n",
       "  </thead>\n",
       "  <tbody>\n",
       "    <tr>\n",
       "      <th>0</th>\n",
       "      <td>Latto, Jung Kook</td>\n",
       "      <td>141381703.0</td>\n",
       "    </tr>\n",
       "    <tr>\n",
       "      <th>1</th>\n",
       "      <td>Myke Towers</td>\n",
       "      <td>133716286.0</td>\n",
       "    </tr>\n",
       "    <tr>\n",
       "      <th>2</th>\n",
       "      <td>Olivia Rodrigo</td>\n",
       "      <td>140003974.0</td>\n",
       "    </tr>\n",
       "    <tr>\n",
       "      <th>3</th>\n",
       "      <td>Taylor Swift</td>\n",
       "      <td>800840817.0</td>\n",
       "    </tr>\n",
       "    <tr>\n",
       "      <th>4</th>\n",
       "      <td>Bad Bunny</td>\n",
       "      <td>303236322.0</td>\n",
       "    </tr>\n",
       "    <tr>\n",
       "      <th>...</th>\n",
       "      <td>...</td>\n",
       "      <td>...</td>\n",
       "    </tr>\n",
       "    <tr>\n",
       "      <th>948</th>\n",
       "      <td>Selena Gomez</td>\n",
       "      <td>91473363.0</td>\n",
       "    </tr>\n",
       "    <tr>\n",
       "      <th>949</th>\n",
       "      <td>Taylor Swift</td>\n",
       "      <td>121871870.0</td>\n",
       "    </tr>\n",
       "    <tr>\n",
       "      <th>950</th>\n",
       "      <td>Feid, Paulo Londra</td>\n",
       "      <td>73513683.0</td>\n",
       "    </tr>\n",
       "    <tr>\n",
       "      <th>951</th>\n",
       "      <td>Feid, Sech, Jhayco</td>\n",
       "      <td>133895612.0</td>\n",
       "    </tr>\n",
       "    <tr>\n",
       "      <th>952</th>\n",
       "      <td>Burna Boy</td>\n",
       "      <td>96007391.0</td>\n",
       "    </tr>\n",
       "  </tbody>\n",
       "</table>\n",
       "<p>953 rows × 2 columns</p>\n",
       "</div>"
      ],
      "text/plain": [
       "         artist(s)_name     streams2\n",
       "0      Latto, Jung Kook  141381703.0\n",
       "1           Myke Towers  133716286.0\n",
       "2        Olivia Rodrigo  140003974.0\n",
       "3          Taylor Swift  800840817.0\n",
       "4             Bad Bunny  303236322.0\n",
       "..                  ...          ...\n",
       "948        Selena Gomez   91473363.0\n",
       "949        Taylor Swift  121871870.0\n",
       "950  Feid, Paulo Londra   73513683.0\n",
       "951  Feid, Sech, Jhayco  133895612.0\n",
       "952           Burna Boy   96007391.0\n",
       "\n",
       "[953 rows x 2 columns]"
      ]
     },
     "execution_count": 750,
     "metadata": {},
     "output_type": "execute_result"
    }
   ],
   "source": [
    "df2 = df[['artist(s)_name', 'streams2',]]\n",
    "df2"
   ]
  },
  {
   "cell_type": "markdown",
   "metadata": {},
   "source": [
    "##### Group the artists and find the top three streamed"
   ]
  },
  {
   "cell_type": "code",
   "execution_count": 751,
   "metadata": {},
   "outputs": [
    {
     "data": {
      "text/html": [
       "<div>\n",
       "<style scoped>\n",
       "    .dataframe tbody tr th:only-of-type {\n",
       "        vertical-align: middle;\n",
       "    }\n",
       "\n",
       "    .dataframe tbody tr th {\n",
       "        vertical-align: top;\n",
       "    }\n",
       "\n",
       "    .dataframe thead th {\n",
       "        text-align: right;\n",
       "    }\n",
       "</style>\n",
       "<table border=\"1\" class=\"dataframe\">\n",
       "  <thead>\n",
       "    <tr style=\"text-align: right;\">\n",
       "      <th></th>\n",
       "      <th>artist(s)_name</th>\n",
       "      <th>streams2</th>\n",
       "    </tr>\n",
       "  </thead>\n",
       "  <tbody>\n",
       "    <tr>\n",
       "      <th>572</th>\n",
       "      <td>The Weeknd</td>\n",
       "      <td>1.418555e+10</td>\n",
       "    </tr>\n",
       "    <tr>\n",
       "      <th>558</th>\n",
       "      <td>Taylor Swift</td>\n",
       "      <td>1.405366e+10</td>\n",
       "    </tr>\n",
       "    <tr>\n",
       "      <th>159</th>\n",
       "      <td>Ed Sheeran</td>\n",
       "      <td>1.390895e+10</td>\n",
       "    </tr>\n",
       "  </tbody>\n",
       "</table>\n",
       "</div>"
      ],
      "text/plain": [
       "    artist(s)_name      streams2\n",
       "572     The Weeknd  1.418555e+10\n",
       "558   Taylor Swift  1.405366e+10\n",
       "159     Ed Sheeran  1.390895e+10"
      ]
     },
     "execution_count": 751,
     "metadata": {},
     "output_type": "execute_result"
    }
   ],
   "source": [
    "top_artist = df2.groupby(\"artist(s)_name\").agg(\"sum\").reset_index()\n",
    "top_artist.nlargest(3, \"streams2\")"
   ]
  },
  {
   "cell_type": "markdown",
   "metadata": {},
   "source": [
    "# Section 3: Exploratory Data Visualization"
   ]
  },
  {
   "cell_type": "markdown",
   "metadata": {},
   "source": [
    "## EDA Visuals "
   ]
  },
  {
   "cell_type": "markdown",
   "metadata": {},
   "source": [
    "### Taylor vs. Overall"
   ]
  },
  {
   "cell_type": "code",
   "execution_count": 752,
   "metadata": {},
   "outputs": [
    {
     "data": {
      "text/plain": [
       "<Axes: ylabel='Frequency'>"
      ]
     },
     "execution_count": 752,
     "metadata": {},
     "output_type": "execute_result"
    },
    {
     "data": {
      "image/png": "[encoded data removed]",
      "text/plain": [
       "<Figure size 640x480 with 1 Axes>"
      ]
     },
     "metadata": {},
     "output_type": "display_data"
    }
   ],
   "source": [
    "df[\"danceability_%\"].plot.hist()"
   ]
  },
  {
   "cell_type": "code",
   "execution_count": 753,
   "metadata": {},
   "outputs": [
    {
     "data": {
      "text/plain": [
       "<Axes: ylabel='Frequency'>"
      ]
     },
     "execution_count": 753,
     "metadata": {},
     "output_type": "execute_result"
    },
    {
     "data": {
      "image/png": "[encoded data removed]",
      "text/plain": [
       "<Figure size 640x480 with 1 Axes>"
      ]
     },
     "metadata": {},
     "output_type": "display_data"
    }
   ],
   "source": [
    "Taylor[\"danceability_%\"].plot.hist()"
   ]
  },
  {
   "cell_type": "code",
   "execution_count": 754,
   "metadata": {},
   "outputs": [
    {
     "data": {
      "text/plain": [
       "<Axes: ylabel='Frequency'>"
      ]
     },
     "execution_count": 754,
     "metadata": {},
     "output_type": "execute_result"
    },
    {
     "data": {
      "image/png": "[encoded data removed]",
      "text/plain": [
       "<Figure size 640x480 with 1 Axes>"
      ]
     },
     "metadata": {},
     "output_type": "display_data"
    }
   ],
   "source": [
    "df[\"streams2\"].plot.hist()"
   ]
  },
  {
   "cell_type": "code",
   "execution_count": 755,
   "metadata": {},
   "outputs": [
    {
     "data": {
      "text/plain": [
       "<Axes: ylabel='Frequency'>"
      ]
     },
     "execution_count": 755,
     "metadata": {},
     "output_type": "execute_result"
    },
    {
     "data": {
      "image/png": "[encoded data removed]",
      "text/plain": [
       "<Figure size 640x480 with 1 Axes>"
      ]
     },
     "metadata": {},
     "output_type": "display_data"
    }
   ],
   "source": [
    "Taylor[\"streams2\"].plot.hist()"
   ]
  },
  {
   "cell_type": "markdown",
   "metadata": {},
   "source": [
    "### Analysis"
   ]
  },
  {
   "cell_type": "markdown",
   "metadata": {},
   "source": [
    "I wanted to compare Taylor Swifts's statistics to the overall, seeing that she was in the top three streamed artist of the dataset and in my original top three favorite artists. I'm mostly going to touch on the histograms related to the streams. The descriptive statistics confused me for a little, because while Taylor's mean was lower than the average, she was still in the top three streamed artists. But after seeing the two \"streams2\" histograms, I understood. Taylor's streams had a positive skew, meaning, she had some higher extreme values that added to her sum, but the overall distribution was lower. You can see this through the large standard deviation as well (larger std= data is spread out from mean). Additionally, the overall streams were also positively skewed, and they had a very high extreme that contributed to the mean being higher than taylor's. "
   ]
  },
  {
   "cell_type": "code",
   "execution_count": 756,
   "metadata": {},
   "outputs": [
    {
     "data": {
      "text/plain": [
       "346030654.4294117"
      ]
     },
     "execution_count": 756,
     "metadata": {},
     "output_type": "execute_result"
    }
   ],
   "source": [
    "#For explanation above \n",
    "Taylor[\"streams2\"].std() "
   ]
  },
  {
   "cell_type": "markdown",
   "metadata": {},
   "source": [
    "## Data Science Visuals "
   ]
  },
  {
   "cell_type": "markdown",
   "metadata": {},
   "source": [
    "### Danceability: Best and Worst "
   ]
  },
  {
   "cell_type": "markdown",
   "metadata": {},
   "source": [
    "#### Best"
   ]
  },
  {
   "cell_type": "code",
   "execution_count": 757,
   "metadata": {},
   "outputs": [
    {
     "data": {
      "text/plain": [
       "<Axes: xlabel='danceability_%', ylabel='valence_%'>"
      ]
     },
     "execution_count": 757,
     "metadata": {},
     "output_type": "execute_result"
    },
    {
     "data": {
      "image/png": "[encoded data removed]",
      "text/plain": [
       "<Figure size 640x480 with 1 Axes>"
      ]
     },
     "metadata": {},
     "output_type": "display_data"
    }
   ],
   "source": [
    "import seaborn as sns\n",
    "sns.regplot(data=df, x=\"danceability_%\", y=\"valence_%\", ci=None, line_kws={'color':'red'})"
   ]
  },
  {
   "cell_type": "markdown",
   "metadata": {},
   "source": [
    "#### Worst"
   ]
  },
  {
   "cell_type": "code",
   "execution_count": 758,
   "metadata": {},
   "outputs": [
    {
     "data": {
      "text/plain": [
       "<Axes: xlabel='danceability_%', ylabel='released_month'>"
      ]
     },
     "execution_count": 758,
     "metadata": {},
     "output_type": "execute_result"
    },
    {
     "data": {
      "image/png": "[encoded data removed]",
      "text/plain": [
       "<Figure size 640x480 with 1 Axes>"
      ]
     },
     "metadata": {},
     "output_type": "display_data"
    }
   ],
   "source": [
    "import seaborn as sns\n",
    "sns.regplot(data=df, x=\"danceability_%\", y=\"released_month\", ci=None, line_kws={'color':'red'})"
   ]
  },
  {
   "cell_type": "markdown",
   "metadata": {},
   "source": [
    "### Streaming: Best and Worst"
   ]
  },
  {
   "cell_type": "markdown",
   "metadata": {},
   "source": [
    "#### Best"
   ]
  },
  {
   "cell_type": "code",
   "execution_count": 759,
   "metadata": {},
   "outputs": [
    {
     "data": {
      "text/plain": [
       "<Axes: xlabel='streams2', ylabel='released_year'>"
      ]
     },
     "execution_count": 759,
     "metadata": {},
     "output_type": "execute_result"
    },
    {
     "data": {
      "image/png": "[encoded data removed]",
      "text/plain": [
       "<Figure size 640x480 with 1 Axes>"
      ]
     },
     "metadata": {},
     "output_type": "display_data"
    }
   ],
   "source": [
    "import seaborn as sns\n",
    "sns.regplot(data=df, x=\"streams2\", y=\"released_year\", ci=None, line_kws={'color':'red'})"
   ]
  },
  {
   "cell_type": "markdown",
   "metadata": {},
   "source": [
    "#### Worst"
   ]
  },
  {
   "cell_type": "code",
   "execution_count": 760,
   "metadata": {},
   "outputs": [
    {
     "data": {
      "text/plain": [
       "<Axes: xlabel='streams2', ylabel='bpm'>"
      ]
     },
     "execution_count": 760,
     "metadata": {},
     "output_type": "execute_result"
    },
    {
     "data": {
      "image/png": "[encoded data removed]",
      "text/plain": [
       "<Figure size 640x480 with 1 Axes>"
      ]
     },
     "metadata": {},
     "output_type": "display_data"
    }
   ],
   "source": [
    "import seaborn as sns\n",
    "sns.regplot(data=df, x=\"streams2\", y=\"bpm\", ci=None, line_kws={'color':'red'})"
   ]
  },
  {
   "cell_type": "markdown",
   "metadata": {},
   "source": [
    "# Section 4: Data Science"
   ]
  },
  {
   "cell_type": "markdown",
   "metadata": {},
   "source": [
    "## Question 1: Which numeric factors have the most and least influence on danceability? Which have the most and least for streaming? "
   ]
  },
  {
   "cell_type": "markdown",
   "metadata": {},
   "source": [
    "Because I've already done some exploratory data analysis with the danceability and the streaming columns, i thought it would be intriguing to see the most important factors that effect them. I can use the .corr() function to anaylze the correlation coefficients of the different numerical factors, calculate the regression line, and then use data visuals to confirm. "
   ]
  },
  {
   "cell_type": "markdown",
   "metadata": {},
   "source": [
    "#### Group Numerical Columns"
   ]
  },
  {
   "cell_type": "code",
   "execution_count": 761,
   "metadata": {},
   "outputs": [],
   "source": [
    "numerical_columns = [\"streams2\", \"danceability_%\", \"valence_%\", \"energy_%\", \"acousticness_%\",\"instrumentalness_%\", \"liveness_%\", \"speechiness_%\", \"bpm\", \"released_year\" , \"released_month\" , \"released_day\" ]"
   ]
  },
  {
   "cell_type": "markdown",
   "metadata": {},
   "source": [
    "#### Correlation"
   ]
  },
  {
   "cell_type": "code",
   "execution_count": 762,
   "metadata": {},
   "outputs": [
    {
     "data": {
      "text/html": [
       "<div>\n",
       "<style scoped>\n",
       "    .dataframe tbody tr th:only-of-type {\n",
       "        vertical-align: middle;\n",
       "    }\n",
       "\n",
       "    .dataframe tbody tr th {\n",
       "        vertical-align: top;\n",
       "    }\n",
       "\n",
       "    .dataframe thead th {\n",
       "        text-align: right;\n",
       "    }\n",
       "</style>\n",
       "<table border=\"1\" class=\"dataframe\">\n",
       "  <thead>\n",
       "    <tr style=\"text-align: right;\">\n",
       "      <th></th>\n",
       "      <th>streams2</th>\n",
       "      <th>danceability_%</th>\n",
       "      <th>valence_%</th>\n",
       "      <th>energy_%</th>\n",
       "      <th>acousticness_%</th>\n",
       "      <th>instrumentalness_%</th>\n",
       "      <th>liveness_%</th>\n",
       "      <th>speechiness_%</th>\n",
       "      <th>bpm</th>\n",
       "      <th>released_year</th>\n",
       "      <th>released_month</th>\n",
       "      <th>released_day</th>\n",
       "    </tr>\n",
       "  </thead>\n",
       "  <tbody>\n",
       "    <tr>\n",
       "      <th>streams2</th>\n",
       "      <td>1.000000</td>\n",
       "      <td>-0.105457</td>\n",
       "      <td>-0.040831</td>\n",
       "      <td>-0.026051</td>\n",
       "      <td>-0.004485</td>\n",
       "      <td>-0.044902</td>\n",
       "      <td>-0.048337</td>\n",
       "      <td>-0.112333</td>\n",
       "      <td>-0.002438</td>\n",
       "      <td>-0.230803</td>\n",
       "      <td>-0.024938</td>\n",
       "      <td>0.010598</td>\n",
       "    </tr>\n",
       "    <tr>\n",
       "      <th>danceability_%</th>\n",
       "      <td>-0.105457</td>\n",
       "      <td>1.000000</td>\n",
       "      <td>0.408451</td>\n",
       "      <td>0.198095</td>\n",
       "      <td>-0.236165</td>\n",
       "      <td>-0.089138</td>\n",
       "      <td>-0.077538</td>\n",
       "      <td>0.184977</td>\n",
       "      <td>-0.147095</td>\n",
       "      <td>0.187333</td>\n",
       "      <td>-0.046403</td>\n",
       "      <td>0.048951</td>\n",
       "    </tr>\n",
       "    <tr>\n",
       "      <th>valence_%</th>\n",
       "      <td>-0.040831</td>\n",
       "      <td>0.408451</td>\n",
       "      <td>1.000000</td>\n",
       "      <td>0.357612</td>\n",
       "      <td>-0.081907</td>\n",
       "      <td>-0.132890</td>\n",
       "      <td>0.021278</td>\n",
       "      <td>0.041081</td>\n",
       "      <td>0.041195</td>\n",
       "      <td>-0.059355</td>\n",
       "      <td>-0.118571</td>\n",
       "      <td>0.042779</td>\n",
       "    </tr>\n",
       "    <tr>\n",
       "      <th>energy_%</th>\n",
       "      <td>-0.026051</td>\n",
       "      <td>0.198095</td>\n",
       "      <td>0.357612</td>\n",
       "      <td>1.000000</td>\n",
       "      <td>-0.577344</td>\n",
       "      <td>-0.038547</td>\n",
       "      <td>0.117302</td>\n",
       "      <td>-0.004846</td>\n",
       "      <td>0.025794</td>\n",
       "      <td>0.095226</td>\n",
       "      <td>-0.083710</td>\n",
       "      <td>0.050545</td>\n",
       "    </tr>\n",
       "    <tr>\n",
       "      <th>acousticness_%</th>\n",
       "      <td>-0.004485</td>\n",
       "      <td>-0.236165</td>\n",
       "      <td>-0.081907</td>\n",
       "      <td>-0.577344</td>\n",
       "      <td>1.000000</td>\n",
       "      <td>0.042796</td>\n",
       "      <td>-0.050142</td>\n",
       "      <td>-0.022501</td>\n",
       "      <td>-0.017694</td>\n",
       "      <td>-0.124156</td>\n",
       "      <td>0.054430</td>\n",
       "      <td>-0.005788</td>\n",
       "    </tr>\n",
       "    <tr>\n",
       "      <th>instrumentalness_%</th>\n",
       "      <td>-0.044902</td>\n",
       "      <td>-0.089138</td>\n",
       "      <td>-0.132890</td>\n",
       "      <td>-0.038547</td>\n",
       "      <td>0.042796</td>\n",
       "      <td>1.000000</td>\n",
       "      <td>-0.045967</td>\n",
       "      <td>-0.083396</td>\n",
       "      <td>-0.001195</td>\n",
       "      <td>-0.014562</td>\n",
       "      <td>0.033985</td>\n",
       "      <td>0.019280</td>\n",
       "    </tr>\n",
       "    <tr>\n",
       "      <th>liveness_%</th>\n",
       "      <td>-0.048337</td>\n",
       "      <td>-0.077538</td>\n",
       "      <td>0.021278</td>\n",
       "      <td>0.117302</td>\n",
       "      <td>-0.050142</td>\n",
       "      <td>-0.045967</td>\n",
       "      <td>1.000000</td>\n",
       "      <td>-0.022525</td>\n",
       "      <td>-0.000761</td>\n",
       "      <td>-0.005819</td>\n",
       "      <td>-0.012348</td>\n",
       "      <td>0.001566</td>\n",
       "    </tr>\n",
       "    <tr>\n",
       "      <th>speechiness_%</th>\n",
       "      <td>-0.112333</td>\n",
       "      <td>0.184977</td>\n",
       "      <td>0.041081</td>\n",
       "      <td>-0.004846</td>\n",
       "      <td>-0.022501</td>\n",
       "      <td>-0.083396</td>\n",
       "      <td>-0.022525</td>\n",
       "      <td>1.000000</td>\n",
       "      <td>0.039260</td>\n",
       "      <td>0.133819</td>\n",
       "      <td>0.039838</td>\n",
       "      <td>-0.015826</td>\n",
       "    </tr>\n",
       "    <tr>\n",
       "      <th>bpm</th>\n",
       "      <td>-0.002438</td>\n",
       "      <td>-0.147095</td>\n",
       "      <td>0.041195</td>\n",
       "      <td>0.025794</td>\n",
       "      <td>-0.017694</td>\n",
       "      <td>-0.001195</td>\n",
       "      <td>-0.000761</td>\n",
       "      <td>0.039260</td>\n",
       "      <td>1.000000</td>\n",
       "      <td>-0.005334</td>\n",
       "      <td>-0.039252</td>\n",
       "      <td>-0.030177</td>\n",
       "    </tr>\n",
       "    <tr>\n",
       "      <th>released_year</th>\n",
       "      <td>-0.230803</td>\n",
       "      <td>0.187333</td>\n",
       "      <td>-0.059355</td>\n",
       "      <td>0.095226</td>\n",
       "      <td>-0.124156</td>\n",
       "      <td>-0.014562</td>\n",
       "      <td>-0.005819</td>\n",
       "      <td>0.133819</td>\n",
       "      <td>-0.005334</td>\n",
       "      <td>1.000000</td>\n",
       "      <td>0.076714</td>\n",
       "      <td>0.174282</td>\n",
       "    </tr>\n",
       "    <tr>\n",
       "      <th>released_month</th>\n",
       "      <td>-0.024938</td>\n",
       "      <td>-0.046403</td>\n",
       "      <td>-0.118571</td>\n",
       "      <td>-0.083710</td>\n",
       "      <td>0.054430</td>\n",
       "      <td>0.033985</td>\n",
       "      <td>-0.012348</td>\n",
       "      <td>0.039838</td>\n",
       "      <td>-0.039252</td>\n",
       "      <td>0.076714</td>\n",
       "      <td>1.000000</td>\n",
       "      <td>0.080313</td>\n",
       "    </tr>\n",
       "    <tr>\n",
       "      <th>released_day</th>\n",
       "      <td>0.010598</td>\n",
       "      <td>0.048951</td>\n",
       "      <td>0.042779</td>\n",
       "      <td>0.050545</td>\n",
       "      <td>-0.005788</td>\n",
       "      <td>0.019280</td>\n",
       "      <td>0.001566</td>\n",
       "      <td>-0.015826</td>\n",
       "      <td>-0.030177</td>\n",
       "      <td>0.174282</td>\n",
       "      <td>0.080313</td>\n",
       "      <td>1.000000</td>\n",
       "    </tr>\n",
       "  </tbody>\n",
       "</table>\n",
       "</div>"
      ],
      "text/plain": [
       "                    streams2  danceability_%  valence_%  energy_%  \\\n",
       "streams2            1.000000       -0.105457  -0.040831 -0.026051   \n",
       "danceability_%     -0.105457        1.000000   0.408451  0.198095   \n",
       "valence_%          -0.040831        0.408451   1.000000  0.357612   \n",
       "energy_%           -0.026051        0.198095   0.357612  1.000000   \n",
       "acousticness_%     -0.004485       -0.236165  -0.081907 -0.577344   \n",
       "instrumentalness_% -0.044902       -0.089138  -0.132890 -0.038547   \n",
       "liveness_%         -0.048337       -0.077538   0.021278  0.117302   \n",
       "speechiness_%      -0.112333        0.184977   0.041081 -0.004846   \n",
       "bpm                -0.002438       -0.147095   0.041195  0.025794   \n",
       "released_year      -0.230803        0.187333  -0.059355  0.095226   \n",
       "released_month     -0.024938       -0.046403  -0.118571 -0.083710   \n",
       "released_day        0.010598        0.048951   0.042779  0.050545   \n",
       "\n",
       "                    acousticness_%  instrumentalness_%  liveness_%  \\\n",
       "streams2                 -0.004485           -0.044902   -0.048337   \n",
       "danceability_%           -0.236165           -0.089138   -0.077538   \n",
       "valence_%                -0.081907           -0.132890    0.021278   \n",
       "energy_%                 -0.577344           -0.038547    0.117302   \n",
       "acousticness_%            1.000000            0.042796   -0.050142   \n",
       "instrumentalness_%        0.042796            1.000000   -0.045967   \n",
       "liveness_%               -0.050142           -0.045967    1.000000   \n",
       "speechiness_%            -0.022501           -0.083396   -0.022525   \n",
       "bpm                      -0.017694           -0.001195   -0.000761   \n",
       "released_year            -0.124156           -0.014562   -0.005819   \n",
       "released_month            0.054430            0.033985   -0.012348   \n",
       "released_day             -0.005788            0.019280    0.001566   \n",
       "\n",
       "                    speechiness_%       bpm  released_year  released_month  \\\n",
       "streams2                -0.112333 -0.002438      -0.230803       -0.024938   \n",
       "danceability_%           0.184977 -0.147095       0.187333       -0.046403   \n",
       "valence_%                0.041081  0.041195      -0.059355       -0.118571   \n",
       "energy_%                -0.004846  0.025794       0.095226       -0.083710   \n",
       "acousticness_%          -0.022501 -0.017694      -0.124156        0.054430   \n",
       "instrumentalness_%      -0.083396 -0.001195      -0.014562        0.033985   \n",
       "liveness_%              -0.022525 -0.000761      -0.005819       -0.012348   \n",
       "speechiness_%            1.000000  0.039260       0.133819        0.039838   \n",
       "bpm                      0.039260  1.000000      -0.005334       -0.039252   \n",
       "released_year            0.133819 -0.005334       1.000000        0.076714   \n",
       "released_month           0.039838 -0.039252       0.076714        1.000000   \n",
       "released_day            -0.015826 -0.030177       0.174282        0.080313   \n",
       "\n",
       "                    released_day  \n",
       "streams2                0.010598  \n",
       "danceability_%          0.048951  \n",
       "valence_%               0.042779  \n",
       "energy_%                0.050545  \n",
       "acousticness_%         -0.005788  \n",
       "instrumentalness_%      0.019280  \n",
       "liveness_%              0.001566  \n",
       "speechiness_%          -0.015826  \n",
       "bpm                    -0.030177  \n",
       "released_year           0.174282  \n",
       "released_month          0.080313  \n",
       "released_day            1.000000  "
      ]
     },
     "execution_count": 762,
     "metadata": {},
     "output_type": "execute_result"
    }
   ],
   "source": [
    "df_numerical = df[numerical_columns]\n",
    "df_numerical.corr()"
   ]
  },
  {
   "cell_type": "markdown",
   "metadata": {},
   "source": [
    "#### Regression Lines"
   ]
  },
  {
   "cell_type": "markdown",
   "metadata": {},
   "source": [
    "##### Best and Worst Regression Line- Danceability"
   ]
  },
  {
   "cell_type": "code",
   "execution_count": 763,
   "metadata": {},
   "outputs": [
    {
     "name": "stdout",
     "output_type": "stream",
     "text": [
      "Y= 0.655522768579668(X) + 7.5311918821704396\n"
     ]
    }
   ],
   "source": [
    "#best\n",
    "slope = (df_numerical.corr()[\"valence_%\"][\"danceability_%\"])* ((df_numerical[\"valence_%\"].std())/(df_numerical[\"danceability_%\"].std()))\n",
    "intercept = df_numerical[\"valence_%\"].mean()  - (slope * df_numerical[\"danceability_%\"].mean())\n",
    "# Regression line\n",
    "print('Y= {}(X) + {}'.format(slope, intercept))"
   ]
  },
  {
   "cell_type": "code",
   "execution_count": 764,
   "metadata": {},
   "outputs": [
    {
     "name": "stdout",
     "output_type": "stream",
     "text": [
      "Y= -0.011311340188433903(X) + 6.791093760237385\n"
     ]
    }
   ],
   "source": [
    "#worst\n",
    "slope = (df_numerical.corr()[\"released_month\"][\"danceability_%\"])* ((df_numerical[\"released_month\"].std())/(df_numerical[\"danceability_%\"].std()))\n",
    "intercept = df_numerical[\"released_month\"].mean()  - (slope * df_numerical[\"danceability_%\"].mean())\n",
    "# Regression line\n",
    "print('Y= {}(X) + {}'.format(slope, intercept))"
   ]
  },
  {
   "cell_type": "markdown",
   "metadata": {},
   "source": [
    "##### Best and Worst Regression Line- Streams"
   ]
  },
  {
   "cell_type": "code",
   "execution_count": 765,
   "metadata": {},
   "outputs": [
    {
     "name": "stdout",
     "output_type": "stream",
     "text": [
      "Y= -4.526108858136316e-09(X) + 2020.5652371264537\n"
     ]
    }
   ],
   "source": [
    "#best\n",
    "slope = (df_numerical.corr()[\"released_year\"][\"streams2\"])* ((df_numerical[\"released_year\"].std())/(df_numerical[\"streams2\"].std()))\n",
    "intercept = df_numerical[\"released_year\"].mean()  - (slope * df_numerical[\"streams2\"].mean())\n",
    "# Regression line\n",
    "print('Y= {}(X) + {}'.format(slope, intercept))"
   ]
  },
  {
   "cell_type": "code",
   "execution_count": 766,
   "metadata": {},
   "outputs": [
    {
     "name": "stdout",
     "output_type": "stream",
     "text": [
      "Y= -1.2066949651885207e-10(X) + 122.60243944502737\n"
     ]
    }
   ],
   "source": [
    "#worst\n",
    "slope = (df_numerical.corr()[\"bpm\"][\"streams2\"])* ((df_numerical[\"bpm\"].std())/(df_numerical[\"streams2\"].std()))\n",
    "intercept = df_numerical[\"bpm\"].mean()  - (slope * df_numerical[\"streams2\"].mean())\n",
    "# Regression line\n",
    "print('Y= {}(X) + {}'.format(slope, intercept))"
   ]
  },
  {
   "cell_type": "markdown",
   "metadata": {},
   "source": [
    "## Question 2: Which Song has the greatest combined apple/spotify playlists?"
   ]
  },
  {
   "cell_type": "markdown",
   "metadata": {},
   "source": [
    "I thought it would be interesting to do some cross analysis using the data across different platforms. I can use the .loc feature to figure out which song has the most playlists when looking at apple AND spotify. Then I can look at the individual ones and compare.  "
   ]
  },
  {
   "cell_type": "markdown",
   "metadata": {},
   "source": [
    "##### Simplify DataFrame"
   ]
  },
  {
   "cell_type": "code",
   "execution_count": 767,
   "metadata": {},
   "outputs": [
    {
     "data": {
      "text/html": [
       "<div>\n",
       "<style scoped>\n",
       "    .dataframe tbody tr th:only-of-type {\n",
       "        vertical-align: middle;\n",
       "    }\n",
       "\n",
       "    .dataframe tbody tr th {\n",
       "        vertical-align: top;\n",
       "    }\n",
       "\n",
       "    .dataframe thead th {\n",
       "        text-align: right;\n",
       "    }\n",
       "</style>\n",
       "<table border=\"1\" class=\"dataframe\">\n",
       "  <thead>\n",
       "    <tr style=\"text-align: right;\">\n",
       "      <th></th>\n",
       "      <th>track_name</th>\n",
       "      <th>in_spotify_playlists</th>\n",
       "      <th>in_apple_playlists</th>\n",
       "    </tr>\n",
       "  </thead>\n",
       "  <tbody>\n",
       "    <tr>\n",
       "      <th>0</th>\n",
       "      <td>Seven (feat. Latto) (Explicit Ver.)</td>\n",
       "      <td>553</td>\n",
       "      <td>43</td>\n",
       "    </tr>\n",
       "    <tr>\n",
       "      <th>1</th>\n",
       "      <td>LALA</td>\n",
       "      <td>1474</td>\n",
       "      <td>48</td>\n",
       "    </tr>\n",
       "    <tr>\n",
       "      <th>2</th>\n",
       "      <td>vampire</td>\n",
       "      <td>1397</td>\n",
       "      <td>94</td>\n",
       "    </tr>\n",
       "    <tr>\n",
       "      <th>3</th>\n",
       "      <td>Cruel Summer</td>\n",
       "      <td>7858</td>\n",
       "      <td>116</td>\n",
       "    </tr>\n",
       "    <tr>\n",
       "      <th>4</th>\n",
       "      <td>WHERE SHE GOES</td>\n",
       "      <td>3133</td>\n",
       "      <td>84</td>\n",
       "    </tr>\n",
       "    <tr>\n",
       "      <th>...</th>\n",
       "      <td>...</td>\n",
       "      <td>...</td>\n",
       "      <td>...</td>\n",
       "    </tr>\n",
       "    <tr>\n",
       "      <th>948</th>\n",
       "      <td>My Mind &amp; Me</td>\n",
       "      <td>953</td>\n",
       "      <td>61</td>\n",
       "    </tr>\n",
       "    <tr>\n",
       "      <th>949</th>\n",
       "      <td>Bigger Than The Whole Sky</td>\n",
       "      <td>1180</td>\n",
       "      <td>4</td>\n",
       "    </tr>\n",
       "    <tr>\n",
       "      <th>950</th>\n",
       "      <td>A Veces (feat. Feid)</td>\n",
       "      <td>573</td>\n",
       "      <td>2</td>\n",
       "    </tr>\n",
       "    <tr>\n",
       "      <th>951</th>\n",
       "      <td>En La De Ella</td>\n",
       "      <td>1320</td>\n",
       "      <td>29</td>\n",
       "    </tr>\n",
       "    <tr>\n",
       "      <th>952</th>\n",
       "      <td>Alone</td>\n",
       "      <td>782</td>\n",
       "      <td>27</td>\n",
       "    </tr>\n",
       "  </tbody>\n",
       "</table>\n",
       "<p>953 rows × 3 columns</p>\n",
       "</div>"
      ],
      "text/plain": [
       "                              track_name  in_spotify_playlists  \\\n",
       "0    Seven (feat. Latto) (Explicit Ver.)                   553   \n",
       "1                                   LALA                  1474   \n",
       "2                                vampire                  1397   \n",
       "3                           Cruel Summer                  7858   \n",
       "4                         WHERE SHE GOES                  3133   \n",
       "..                                   ...                   ...   \n",
       "948                         My Mind & Me                   953   \n",
       "949            Bigger Than The Whole Sky                  1180   \n",
       "950                 A Veces (feat. Feid)                   573   \n",
       "951                        En La De Ella                  1320   \n",
       "952                                Alone                   782   \n",
       "\n",
       "     in_apple_playlists  \n",
       "0                    43  \n",
       "1                    48  \n",
       "2                    94  \n",
       "3                   116  \n",
       "4                    84  \n",
       "..                  ...  \n",
       "948                  61  \n",
       "949                   4  \n",
       "950                   2  \n",
       "951                  29  \n",
       "952                  27  \n",
       "\n",
       "[953 rows x 3 columns]"
      ]
     },
     "execution_count": 767,
     "metadata": {},
     "output_type": "execute_result"
    }
   ],
   "source": [
    "df3 = df[[\"track_name\", \"in_spotify_playlists\", \"in_apple_playlists\"]]\n",
    "df3"
   ]
  },
  {
   "cell_type": "markdown",
   "metadata": {},
   "source": [
    "#### Find top song"
   ]
  },
  {
   "cell_type": "code",
   "execution_count": 772,
   "metadata": {},
   "outputs": [],
   "source": [
    "df3.loc[:, \"combined\"] = (df3[\"in_spotify_playlists\"] +  df3[\"in_apple_playlists\"])\n",
    "top_value = df3[\"combined\"].max()"
   ]
  },
  {
   "cell_type": "code",
   "execution_count": 769,
   "metadata": {},
   "outputs": [
    {
     "data": {
      "text/html": [
       "<div>\n",
       "<style scoped>\n",
       "    .dataframe tbody tr th:only-of-type {\n",
       "        vertical-align: middle;\n",
       "    }\n",
       "\n",
       "    .dataframe tbody tr th {\n",
       "        vertical-align: top;\n",
       "    }\n",
       "\n",
       "    .dataframe thead th {\n",
       "        text-align: right;\n",
       "    }\n",
       "</style>\n",
       "<table border=\"1\" class=\"dataframe\">\n",
       "  <thead>\n",
       "    <tr style=\"text-align: right;\">\n",
       "      <th></th>\n",
       "      <th>track_name</th>\n",
       "      <th>in_spotify_playlists</th>\n",
       "      <th>in_apple_playlists</th>\n",
       "      <th>combined</th>\n",
       "    </tr>\n",
       "  </thead>\n",
       "  <tbody>\n",
       "    <tr>\n",
       "      <th>757</th>\n",
       "      <td>Get Lucky - Radio Edit</td>\n",
       "      <td>52898</td>\n",
       "      <td>203</td>\n",
       "      <td>53101</td>\n",
       "    </tr>\n",
       "  </tbody>\n",
       "</table>\n",
       "</div>"
      ],
      "text/plain": [
       "                 track_name  in_spotify_playlists  in_apple_playlists  \\\n",
       "757  Get Lucky - Radio Edit                 52898                 203   \n",
       "\n",
       "     combined  \n",
       "757     53101  "
      ]
     },
     "execution_count": 769,
     "metadata": {},
     "output_type": "execute_result"
    }
   ],
   "source": [
    "top_song = df3[df3[\"combined\"] == top_value]\n",
    "top_song"
   ]
  },
  {
   "cell_type": "code",
   "execution_count": 770,
   "metadata": {},
   "outputs": [
    {
     "data": {
      "text/html": [
       "<div>\n",
       "<style scoped>\n",
       "    .dataframe tbody tr th:only-of-type {\n",
       "        vertical-align: middle;\n",
       "    }\n",
       "\n",
       "    .dataframe tbody tr th {\n",
       "        vertical-align: top;\n",
       "    }\n",
       "\n",
       "    .dataframe thead th {\n",
       "        text-align: right;\n",
       "    }\n",
       "</style>\n",
       "<table border=\"1\" class=\"dataframe\">\n",
       "  <thead>\n",
       "    <tr style=\"text-align: right;\">\n",
       "      <th></th>\n",
       "      <th>track_name</th>\n",
       "      <th>in_spotify_playlists</th>\n",
       "      <th>in_apple_playlists</th>\n",
       "      <th>combined</th>\n",
       "    </tr>\n",
       "  </thead>\n",
       "  <tbody>\n",
       "    <tr>\n",
       "      <th>757</th>\n",
       "      <td>Get Lucky - Radio Edit</td>\n",
       "      <td>52898</td>\n",
       "      <td>203</td>\n",
       "      <td>53101</td>\n",
       "    </tr>\n",
       "  </tbody>\n",
       "</table>\n",
       "</div>"
      ],
      "text/plain": [
       "                 track_name  in_spotify_playlists  in_apple_playlists  \\\n",
       "757  Get Lucky - Radio Edit                 52898                 203   \n",
       "\n",
       "     combined  \n",
       "757     53101  "
      ]
     },
     "execution_count": 770,
     "metadata": {},
     "output_type": "execute_result"
    }
   ],
   "source": [
    "top_spotify_song = df3.nlargest(1, \"in_spotify_playlists\")\n",
    "top_spotify_song"
   ]
  },
  {
   "cell_type": "code",
   "execution_count": 771,
   "metadata": {},
   "outputs": [
    {
     "data": {
      "text/html": [
       "<div>\n",
       "<style scoped>\n",
       "    .dataframe tbody tr th:only-of-type {\n",
       "        vertical-align: middle;\n",
       "    }\n",
       "\n",
       "    .dataframe tbody tr th {\n",
       "        vertical-align: top;\n",
       "    }\n",
       "\n",
       "    .dataframe thead th {\n",
       "        text-align: right;\n",
       "    }\n",
       "</style>\n",
       "<table border=\"1\" class=\"dataframe\">\n",
       "  <thead>\n",
       "    <tr style=\"text-align: right;\">\n",
       "      <th></th>\n",
       "      <th>track_name</th>\n",
       "      <th>in_spotify_playlists</th>\n",
       "      <th>in_apple_playlists</th>\n",
       "      <th>combined</th>\n",
       "    </tr>\n",
       "  </thead>\n",
       "  <tbody>\n",
       "    <tr>\n",
       "      <th>55</th>\n",
       "      <td>Blinding Lights</td>\n",
       "      <td>43899</td>\n",
       "      <td>672</td>\n",
       "      <td>44571</td>\n",
       "    </tr>\n",
       "  </tbody>\n",
       "</table>\n",
       "</div>"
      ],
      "text/plain": [
       "         track_name  in_spotify_playlists  in_apple_playlists  combined\n",
       "55  Blinding Lights                 43899                 672     44571"
      ]
     },
     "execution_count": 771,
     "metadata": {},
     "output_type": "execute_result"
    }
   ],
   "source": [
    "top_apple_song = df3.nlargest(1, \"in_apple_playlists\")\n",
    "top_apple_song"
   ]
  },
  {
   "cell_type": "markdown",
   "metadata": {},
   "source": [
    "# Section 5: Overall Summary"
   ]
  },
  {
   "cell_type": "markdown",
   "metadata": {},
   "source": [
    "In this notebook I delved into the the discoveries of a Spotify Dataset. I used descriptive statistics to analyze my top three artists of the year, and then the top three artists overall (based off of my streams). Those two sets of three had one artist in common: Taylor Swift! Out of my big three she had the top danceability of a song, and made up the largest percentile of the total streams. For the overall, she had a large amount of top songs, as well as a variety in her streaming depending on the songs this year (high standard deviation). She also followed most of the overall trends for the dataset such as distribution of danceability and (which makes sense giving her standing), but her mean streams were lower than the overall mean. This was shown/proved again in the positive skewed histogram of Taylor's streams. \n",
    "\n",
    "Other than analyzing Taylor Swift, I did some more advanced data analysis for the danceability and stream factors. I wanted to see which numerical factors had the greatest/least impact on the two columns. For danceability, the best was valence, which is understandable as the more positive songs are typically the onces you to dance to. The factor with the least impact, release month, also makes some sense as my dancing doesnt fluxuate depending on the month. In contrast, the streaming factors (released year and bpm) were more suprising. However, streaming in general didn't have much correlation with any factor. For a second inquiry, I decided to focus on comparing songs across platforms. More specifically, I set out to find the top song on the combined platforms of apple and spotify, and then compare that to the top of each individual music platforms. I discovered that the the combined top and spotify top shared a song (\"Get Lucky\"), while apple's top song was different (\"Blinding Lights\"). As there are more spotify users (at least in the dataset), it had more of an influence in this analysis. In the future, it would be interesting to compare the top artist results of Spotify with those of Apple's (Apple's streaming numbers weren't provided). \n"
   ]
  }
 ],
 "metadata": {
  "kernelspec": {
   "display_name": "Python 3",
   "language": "python",
   "name": "python3"
  },
  "language_info": {
   "codemirror_mode": {
    "name": "ipython",
    "version": 3
   },
   "file_extension": ".py",
   "mimetype": "text/x-python",
   "name": "python",
   "nbconvert_exporter": "python",
   "pygments_lexer": "ipython3",
   "version": "3.11.4"
  },
  "orig_nbformat": 4
 },
 "nbformat": 4,
 "nbformat_minor": 2
}
